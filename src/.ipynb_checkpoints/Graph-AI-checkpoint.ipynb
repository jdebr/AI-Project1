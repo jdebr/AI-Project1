{
 "cells": [
  {
   "cell_type": "markdown",
   "metadata": {},
   "source": [
    "                                                    AI - Project 1"
   ]
  },
  {
   "cell_type": "markdown",
   "metadata": {},
   "source": [
    "First we implement the Graph Generation "
   ]
  },
  {
   "cell_type": "markdown",
   "metadata": {},
   "source": [
    "We start with the generation of de n vertex of the graph."
   ]
  },
  {
   "cell_type": "code",
   "execution_count": 1,
   "metadata": {
    "collapsed": false
   },
   "outputs": [
    {
     "name": "stdout",
     "output_type": "stream",
     "text": [
      "X coordinates are - [0.7374399611590129, 0.7425914160325254, 0.23372942905587601, 0.2565515780298755, 0.335721952699628, 0.9108887558088778, 0.8260076840820293, 0.778723318078044, 0.13173226254527315, 0.0362479430528877]\n",
      "Y coordinates are - [0.42827294991972453, 0.34949932385342797, 0.9162138824850825, 0.27247673445407716, 0.19512008177848872, 0.5898489978004595, 0.3477784698941033, 0.8807439507742436, 0.21532025979832348, 0.5794416592500883]\n",
      "\n",
      "DICTIONNARY OF VERTEX GENERATED\n"
     ]
    },
    {
     "data": {
      "text/plain": [
       "{0: [0.8260076840820293, 0.8807439507742436],\n",
       " 1: [0.7425914160325254, 0.21532025979832348],\n",
       " 2: [0.778723318078044, 0.21532025979832348],\n",
       " 3: [0.335721952699628, 0.19512008177848872],\n",
       " 4: [0.7374399611590129, 0.27247673445407716],\n",
       " 5: [0.7425914160325254, 0.8807439507742436],\n",
       " 6: [0.0362479430528877, 0.5898489978004595],\n",
       " 7: [0.13173226254527315, 0.5898489978004595],\n",
       " 8: [0.0362479430528877, 0.5898489978004595],\n",
       " 9: [0.2565515780298755, 0.5794416592500883]}"
      ]
     },
     "execution_count": 1,
     "metadata": {},
     "output_type": "execute_result"
    }
   ],
   "source": [
    "import random\n",
    "import math\n",
    "graphX = []\n",
    "graphY = []\n",
    "\n",
    "#Enter value of n from 10 - 100 in multiples of 10\n",
    "n = 10\n",
    "\n",
    "for i in range(n):\n",
    "    x = random.random()\n",
    "    y = random.random()\n",
    "    graphX.append(x)\n",
    "    graphY.append(y)\n",
    "print(\"X coordinates are - \" + str(graphX))\n",
    "print(\"Y coordinates are - \" + str(graphY))\n",
    "\n",
    "graph = {}\n",
    "listX = []\n",
    "listY = []\n",
    "for i in range(0,10):  \n",
    "    graph[i] = [random.choice(graphX),random.choice(graphY)]\n",
    "    listX.append((graph[i])[0])\n",
    "    listY.append((graph[i])[1])\n",
    "    \n",
    "print \"\\nDICTIONNARY OF VERTEX GENERATED\"\n",
    "graph"
   ]
  },
  {
   "cell_type": "markdown",
   "metadata": {
    "collapsed": true
   },
   "source": [
    "Display the vertex on the screen"
   ]
  },
  {
   "cell_type": "code",
   "execution_count": 2,
   "metadata": {
    "collapsed": false
   },
   "outputs": [
    {
     "data": {
      "image/png": "[encoded data removed]",
      "text/plain": [
       "<matplotlib.figure.Figure at 0x769ad30>"
      ]
     },
     "metadata": {},
     "output_type": "display_data"
    }
   ],
   "source": [
    "%matplotlib inline\n",
    "\n",
    "import matplotlib.pyplot as plt\n",
    "\n",
    "plt.plot(listX, listY, 'ro')\n",
    "plt.axis([0, 1, 0, 1])\n",
    "plt.xlabel('x axe')\n",
    "plt.ylabel('y axe')\n",
    "plt.show()"
   ]
  },
  {
   "cell_type": "markdown",
   "metadata": {},
   "source": [
    "Then we will compute the Euclidian distance between all the point and sort it in a dictionnary"
   ]
  },
  {
   "cell_type": "code",
   "execution_count": 3,
   "metadata": {
    "collapsed": false
   },
   "outputs": [
    {
     "data": {
      "text/plain": [
       "[OrderedDict([(5, 0.08341626804950386),\n",
       "              (4, 0.6146814199190117),\n",
       "              (9, 0.6442540862096172),\n",
       "              (2, 0.6671015663153668),\n",
       "              (1, 0.6706317635538325),\n",
       "              (7, 0.7527537675864934),\n",
       "              (6, 0.8416295635349538),\n",
       "              (8, 0.8416295635349538),\n",
       "              (3, 0.8428880045023088)]),\n",
       " OrderedDict([(2, 0.03613190204551853),\n",
       "              (4, 0.05738815280515352),\n",
       "              (3, 0.4073706020134896),\n",
       "              (9, 0.6073047979922057),\n",
       "              (5, 0.6654236909759201),\n",
       "              (0, 0.6706317635538325),\n",
       "              (7, 0.7165337961245339),\n",
       "              (6, 0.7994953892364914),\n",
       "              (8, 0.7994953892364914)]),\n",
       " OrderedDict([(1, 0.03613190204551853),\n",
       "              (4, 0.07050658234220351),\n",
       "              (3, 0.44346167469035447),\n",
       "              (9, 0.6365907002491034),\n",
       "              (5, 0.6664039337049593),\n",
       "              (0, 0.6671015663153668),\n",
       "              (7, 0.7475755490442966),\n",
       "              (6, 0.831589717413713),\n",
       "              (8, 0.831589717413713)]),\n",
       " OrderedDict([(9, 0.3923914157261951),\n",
       "              (1, 0.4073706020134896),\n",
       "              (4, 0.40909828896457884),\n",
       "              (2, 0.44346167469035447),\n",
       "              (7, 0.44432275525022324),\n",
       "              (6, 0.4954751251049602),\n",
       "              (8, 0.4954751251049602),\n",
       "              (5, 0.7972595875431715),\n",
       "              (0, 0.8428880045023088)]),\n",
       " OrderedDict([(1, 0.05738815280515352),\n",
       "              (2, 0.07050658234220351),\n",
       "              (3, 0.40909828896457884),\n",
       "              (9, 0.5705095109492714),\n",
       "              (5, 0.6082890299333024),\n",
       "              (0, 0.6146814199190117),\n",
       "              (7, 0.6838179360776949),\n",
       "              (6, 0.7696722677850268),\n",
       "              (8, 0.7696722677850268)]),\n",
       " OrderedDict([(0, 0.08341626804950386),\n",
       "              (9, 0.5718546974567484),\n",
       "              (4, 0.6082890299333024),\n",
       "              (1, 0.6654236909759201),\n",
       "              (2, 0.6664039337049593),\n",
       "              (7, 0.6765861209519322),\n",
       "              (6, 0.7638985374292558),\n",
       "              (8, 0.7638985374292558),\n",
       "              (3, 0.7972595875431715)]),\n",
       " OrderedDict([(8, 0.0),\n",
       "              (7, 0.09548431949238545),\n",
       "              (9, 0.2205493239159348),\n",
       "              (3, 0.4954751251049602),\n",
       "              (5, 0.7638985374292558),\n",
       "              (4, 0.7696722677850268),\n",
       "              (1, 0.7994953892364914),\n",
       "              (2, 0.831589717413713),\n",
       "              (0, 0.8416295635349538)]),\n",
       " OrderedDict([(6, 0.09548431949238545),\n",
       "              (8, 0.09548431949238545),\n",
       "              (9, 0.12525244194724003),\n",
       "              (3, 0.44432275525022324),\n",
       "              (5, 0.6765861209519322),\n",
       "              (4, 0.6838179360776949),\n",
       "              (1, 0.7165337961245339),\n",
       "              (2, 0.7475755490442966),\n",
       "              (0, 0.7527537675864934)]),\n",
       " OrderedDict([(6, 0.0),\n",
       "              (7, 0.09548431949238545),\n",
       "              (9, 0.2205493239159348),\n",
       "              (3, 0.4954751251049602),\n",
       "              (5, 0.7638985374292558),\n",
       "              (4, 0.7696722677850268),\n",
       "              (1, 0.7994953892364914),\n",
       "              (2, 0.831589717413713),\n",
       "              (0, 0.8416295635349538)]),\n",
       " OrderedDict([(7, 0.12525244194724003),\n",
       "              (6, 0.2205493239159348),\n",
       "              (8, 0.2205493239159348),\n",
       "              (3, 0.3923914157261951),\n",
       "              (4, 0.5705095109492714),\n",
       "              (5, 0.5718546974567484),\n",
       "              (1, 0.6073047979922057),\n",
       "              (2, 0.6365907002491034),\n",
       "              (0, 0.6442540862096172)])]"
      ]
     },
     "execution_count": 3,
     "metadata": {},
     "output_type": "execute_result"
    }
   ],
   "source": [
    "from collections import OrderedDict\n",
    "from operator import itemgetter\n",
    "\n",
    "distanceList = []\n",
    "for key1, value  in graph.items() :\n",
    "    vertex ={}\n",
    "    x1Coordinate = value[0]\n",
    "    y1Coordinate = value[1]\n",
    "    x1 = x1Coordinate\n",
    "    y1 = y1Coordinate\n",
    "    for key, value in graph.items():\n",
    "        x2Coordinate = value[0]\n",
    "        y2Coordinate = value[1]\n",
    "        x = (x2Coordinate - x1Coordinate)**2\n",
    "        y = (y2Coordinate - y1Coordinate)**2\n",
    "        vertex[key] = math.sqrt(x+y)\n",
    "    del vertex[key1]\n",
    "    distanceList.append(OrderedDict(sorted(vertex.items(), key=itemgetter(1))))\n",
    "distanceList"
   ]
  },
  {
   "cell_type": "markdown",
   "metadata": {
    "collapsed": true
   },
   "source": [
    "Edges"
   ]
  },
  {
   "cell_type": "code",
   "execution_count": null,
   "metadata": {
    "collapsed": true
   },
   "outputs": [],
   "source": []
  },
  {
   "cell_type": "markdown",
   "metadata": {},
   "source": [
    "Want to plot an edge bitween 2 vertex :  "
   ]
  },
  {
   "cell_type": "code",
   "execution_count": 4,
   "metadata": {
    "collapsed": false
   },
   "outputs": [
    {
     "data": {
      "image/png": "[encoded data removed]",
      "text/plain": [
       "<matplotlib.figure.Figure at 0x7248898>"
      ]
     },
     "metadata": {},
     "output_type": "display_data"
    }
   ],
   "source": [
    "%matplotlib inline\n",
    "\n",
    "import matplotlib.pyplot as plt\n",
    "\n",
    "\n",
    "plt.plot(listX, listY, 'ro')\n",
    "plt.axis([0, 1, 0, 1])\n",
    "plt.xlabel('x axe')\n",
    "plt.ylabel('y axe')\n",
    "plt.plot([listX[0], listX[1]], [listY[0], listY[1]])\n",
    "plt.plot([listX[1], listX[2]], [listY[1], listY[2]])\n",
    "plt.plot([listX[2], listX[3]], [listY[2], listY[3]])\n",
    "plt.plot([listX[3], listX[4]], [listY[3], listY[4]])\n",
    "plt.show()"
   ]
  },
  {
   "cell_type": "markdown",
   "metadata": {},
   "source": [
    "test : \n",
    "if there is already an edge\n",
    "intersection\n",
    "vertical\n",
    "overlap\n",
    "parallele\n"
   ]
  },
  {
   "cell_type": "code",
   "execution_count": null,
   "metadata": {
    "collapsed": false
   },
   "outputs": [],
   "source": [
    "import random\n",
    "import math\n",
    "from collections import defaultdict\n",
    "from sortedcontainers import SortedDict\n",
    "import matplotlib.pyplot as py\n",
    "\n",
    "graph = defaultdict(list)\n",
    "# Represents an undirected graph.  Key is node ID, value is a list of           \n",
    "# node IDs that share an edge.\n",
    "# {nodeID: [nodeIDs...]}\n",
    "\n",
    "\n",
    "color = {}\n",
    "# Maps node ID to some color value\n",
    "# {nodeID: 'color'}\n",
    "\n",
    "\n",
    "coords = {}\n",
    "# Maps node ID to a tuple representing Cartesian coordinates\n",
    "# {nodeID: (x, y)}\n",
    "\n",
    "\n",
    "distance = defaultdict(list)\n",
    "# Maps node ID to a list of tuples which represent NodeID and distance \n",
    "# {nodeID: [(nodeID, distance)...]}  \n",
    "\n",
    "conflicts = list()\n",
    "#List of the number of conflic for each vertex \n",
    "\n",
    "\n",
    "def generate_points(n):\n",
    "    ''' Generates n sets of points randomly scattered on the \n",
    "    unit square and stores them as tuples mapped to integer IDs\n",
    "    '''\n",
    "    for i in range(n):\n",
    "        randX = random.randint(1, 10000)\n",
    "        randY = random.randint(1, 10000)\n",
    "        v = (float(randX), float(randY))\n",
    "        coords[i] = v \n",
    "        \n",
    "\n",
    "def calculate_distances():\n",
    "    ''' Calculates distances between each pair of points,\n",
    "    storing as a dictionary of lists of tuples, then sorting\n",
    "    the lists by distance\n",
    "    '''\n",
    "    for i in range(len(coords)):\n",
    "        for j in range(i + 1, len(coords)):\n",
    "            # Calculate distance from i to j, \n",
    "            # store in both distances[i] and distances[j]\n",
    "            delta_x = coords[i][0] - coords[j][0]\n",
    "            delta_y = coords[i][1] - coords[j][1]\n",
    "            d = math.sqrt(pow(delta_x, 2) + pow(delta_y, 2))\n",
    "            distance[i].append((j, d))\n",
    "            distance[j].append((i, d)) \n",
    "            \n",
    "    # Sort each list of tuples by distance\n",
    "    for k, v in distance.items():\n",
    "        v.sort(key=lambda d: d[1])\n",
    "        \n",
    "        \n",
    "def build_graph():\n",
    "    ''' Add edges to graph by selecting a random point and adding \n",
    "    an edge to the nearest point that doesn't already have an edge\n",
    "    and such that it will not cross any other edge'''\n",
    "    lines = []\n",
    "    # List of existing line segments (edges on graph)\n",
    "    # [(A, B, C, x1, y1, x2, y2) ...]\n",
    "    \n",
    "    available_nodes = list(coords.keys())\n",
    "    # List of node IDs to check for possible edges\n",
    "    \n",
    "    \n",
    "    # Start main loop - run until no connections available\n",
    "    while available_nodes:\n",
    "        # Choose random point from available nodes\n",
    "        selected_point = random.choice(available_nodes)\n",
    "        # Boolean to loop until a line is added\n",
    "        lineAdded = False\n",
    "        while not lineAdded:\n",
    "            # If there's no nodes left to check for selected node, remove from \n",
    "            # available nodes and exit loop to select a new node\n",
    "            if not distance[selected_point] :\n",
    "                available_nodes.remove(selected_point)\n",
    "                break\n",
    "            # Get closest point to our chosen point and remove it from dictionary\n",
    "            # to indicate we have tried to add an edge to it.  \n",
    "            else : \n",
    "                nearest_point = distance[selected_point][0][0]\n",
    "                distance[selected_point].pop(0)\n",
    "                \n",
    "                # if no edge already exists between these points, calculate line equation\n",
    "                if nearest_point not in graph[selected_point] and selected_point not in graph[nearest_point]:\n",
    "                    # set coordinates for calculation\n",
    "                    pt1 = coords[selected_point]\n",
    "                    pt2 = coords[nearest_point]\n",
    "                    x1 = pt1[0]\n",
    "                    y1 = pt1[1]\n",
    "                    x2 = pt2[0]\n",
    "                    y2 = pt2[1]\n",
    "                    \n",
    "                    #Check if vertical line, might need to handle differently?\n",
    "                    if x1 == x2:\n",
    "                        print(\"Vertical line!\")\n",
    "                        pass\n",
    "                    # Check if this line will intersect any other edges in graph\n",
    "                    else:\n",
    "                        # Calculate values for line Ax + By = C\n",
    "                        A1 = y2 - y1\n",
    "                        B1 = x1 - x2\n",
    "                        C1 = A1 * x1 + B1 * y1\n",
    "                        # If no edges on graph then no conflict, so add this as first edge\n",
    "                        if not lines:\n",
    "                            graph[selected_point].append(nearest_point)\n",
    "                            lines.append((A1, B1, C1, x1, y1, x2, y2))\n",
    "                            lineAdded = True\n",
    "                        # Check all other edges for potential intersection\n",
    "                        else:\n",
    "                            intersection_found = False\n",
    "                            \n",
    "                            for line in lines:\n",
    "                                # Retrieve pre-calculated line information\n",
    "                                A2 = line[0]\n",
    "                                B2 = line[1]\n",
    "                                C2 = line[2]\n",
    "                                x3 = line[3]\n",
    "                                y3 = line[4]\n",
    "                                x4 = line[5]\n",
    "                                y4 = line[6]\n",
    "                                \n",
    "                                # Calculate determinant of system\n",
    "                                det = (A1 * B2) - (A2 * B1)\n",
    "                                if det == 0:\n",
    "                                    # edges are parallel\n",
    "                                    if abs(A1) == abs(A2) and abs(B1) == abs(B2) and abs(C1) == abs(C2):\n",
    "                                        # edges fall on same line, so check for overlap\n",
    "                                        if x1 == x3 or x1 == x4 and x2 == x3 or x2 == x4:\n",
    "                                            # edges are exactly the same\n",
    "                                            print(\"Same Line!\")\n",
    "                                            intersection_found = True\n",
    "                                        elif (x1 > min(x3, x4) and x1 < max(x3, x4)\n",
    "                                                or x2 > min(x3, x4) and x2 < max(x3, x4)\n",
    "                                                or x3 > min(x1, x2) and x3 < max(x1, x2)\n",
    "                                                or x4 > min(x1, x2) and x4 < max(x1, x2)):\n",
    "                                            # Parallel edges overlap and thus intersect\n",
    "                                            print(\"Parallel Overlap!\")\n",
    "                                            intersection_found = True\n",
    "                                        else:\n",
    "                                            # Parallel lines don't overlap so we are ok\n",
    "                                            pass\n",
    "                                # Calculate point of intersection\n",
    "                                else:\n",
    "                                    x = (B2 * C1 - B1 * C2) / det\n",
    "                                    y = (A1 * C2 - A2 * C1) / det\n",
    "                                    \n",
    "                                    # Check if on segment 1\n",
    "                                    if x > min(x1, x2) and x < max(x1, x2):\n",
    "                                        if y > min(y1, y2) and y < max(y1, y2):\n",
    "                                            # Check if on segment 2\n",
    "                                            if x > min(x3, x4) and x < max(x3, x4):\n",
    "                                                if y > min(y3, y4) and y < max(y3, y4):\n",
    "                                                    # this will intersect so move on\n",
    "                                                    intersection_found = True\n",
    "                                                    break\n",
    "                                                \n",
    "                            # No intersection so add edge and line\n",
    "                            if not intersection_found:\n",
    "                                graph[selected_point].append(nearest_point)\n",
    "                                lines.append((A1, B1, C1, x1, y1, x2, y2))\n",
    "                                lineAdded = True\n",
    "                                    \n",
    "                                \n",
    "def plot_graph():\n",
    "    xval = []\n",
    "    yval = []\n",
    "    for i in range(len(coords)):\n",
    "        xval.append(coords[i][0])\n",
    "        yval.append(coords[i][1])\n",
    "    py.plot(xval, yval, 'or')\n",
    "    \n",
    "    \n",
    "    \n",
    "    for pt, edges in graph.items():\n",
    "        for pt2 in edges:\n",
    "            xval = [coords[pt][0], coords[pt2][0]]\n",
    "            yval = [coords[pt][1], coords[pt2][1]]\n",
    "            py.plot(xval, yval)\n",
    "    \n",
    "    py.show()\n",
    "\n",
    "    \n",
    "def creat_adgacent_matrix():\n",
    "    \n",
    "    #init adjacent matrix\n",
    "    matrix_adj = list()\n",
    "    for x in range(0, len(graph)):\n",
    "        raw = list()\n",
    "        for y in range(0,len(graph)):\n",
    "            raw.append(0)\n",
    "        matrix_adj.append(raw)\n",
    "    #Creat matrix\n",
    "    for i in range(0,len(graph)) :\n",
    "        for j in range(0, len(graph)):\n",
    "            if j in graph[i] : \n",
    "                matrix_adj[i][j] = 1\n",
    "                matrix_adj[j][i] = 1\n",
    "    return matrix_adj\n",
    " \n",
    "def random_color(nb):\n",
    "    return random.randint(0, nb-1)\n",
    "    \n",
    "def init_graph_color(nb):\n",
    "    for v in graph : \n",
    "        color[v] = random_color(nb)\n",
    "\n",
    "def conflicts(v, mat_adj) : \n",
    "    nb = 0\n",
    "    for pts in mat_adj[v]:\n",
    "        if color[v] == color[pts] : \n",
    "            nb= nb + 1\n",
    "    conflict[v] = nb\n",
    "\n",
    "def test_csp(): \n",
    "    if sum(conflicts) == 0 :\n",
    "        return true\n",
    "    else :\n",
    "        return false\n",
    "def tot_conflicts(mat_adj):\n",
    "    for v in graph :\n",
    "        conflicts(v,mat_adj)\n",
    "    return sum(conflicts)\n",
    "\n",
    "def minimize_conflicts(mat_adj, nb):\n",
    "    nb_tot_conf = tot_conflicts(mat_adj)\n",
    "    list_conf = conflicts\n",
    "    max_conf = conflicts.index(max(conflicts))\n",
    "    col_max = color[max_conf]\n",
    "    new_col = random_color(nb)\n",
    "    while col_amx == new_col :\n",
    "        new_col = random_color(nb)\n",
    "    new_nb_tot_conf = tot_conflicts(mat_adj)\n",
    "    while new_nb_tot_conf >= nb_tot_conf or max(list_conf) == 0:\n",
    "        list_conf[max_conf] = 0\n",
    "        max_conf = list_confs.index(max(list_conf))\n",
    "        col_max = color[max_conf]\n",
    "        new_col = random_color(nb)\n",
    "        while col_amx == new_col :\n",
    "            new_col = random_color(nb)\n",
    "        new_nb_tot_conf = tot_conflict\n",
    "        \n",
    "    \n",
    "def min_conflicts(max_it,nb) : \n",
    "    mat_adj = matric_creation()\n",
    "    init_graph_color(nb)\n",
    "    for i in range(1, max_it) :\n",
    "        minimize_conflicts(mat_adj, nb)\n",
    "        if test_csp():\n",
    "            return true\n",
    "    return false\n",
    "    \n",
    "    \n",
    "def unit_tests():\n",
    "    for i in range(1000):\n",
    "        generate_points(3)\n",
    "        calculate_distances()\n",
    "        build_graph()\n",
    "        x = 0\n",
    "        for node, edges in graph.items():\n",
    "            x += len(edges)\n",
    "        \n",
    "        if x != 3:\n",
    "            print(\"Num Edges: \" + str(x))\n",
    "            print(\"Error\")\n",
    "            \n",
    "            \n",
    "def run_experiment():\n",
    "    generate_points(10)\n",
    "    #for key, value in coords.items():\n",
    "    #    print(key, value)\n",
    "        \n",
    "    calculate_distances()\n",
    "    #print(distance)\n",
    "    \n",
    "    build_graph()\n",
    "    #for key, value in graph.items():\n",
    "    #print(\"Node \" + str(key) + \" connected to nodes: \" + str(value))\n",
    "        \n",
    "    plot_graph()\n",
    "    \n",
    "    print graph\n",
    "    mat = creat_adgacent_matrix ()\n",
    "    print mat\n",
    "    min_conflicts(max_it,4)\n",
    "    \n",
    "        \n",
    "def main():\n",
    "    run_experiment()\n",
    "    #unit_tests()\n",
    "    \n",
    "    \n",
    "if __name__ == '__main__':\n",
    "    main()"
   ]
  },
  {
   "cell_type": "code",
   "execution_count": 29,
   "metadata": {
    "collapsed": false
   },
   "outputs": [
    {
     "data": {
      "text/plain": [
       "defaultdict(list, {0: [], 1: [2, 3], 2: [0], 3: [2, 0], 4: [2, 1, 0]})"
      ]
     },
     "execution_count": 29,
     "metadata": {},
     "output_type": "execute_result"
    }
   ],
   "source": [
    "graph"
   ]
  },
  {
   "cell_type": "code",
   "execution_count": 30,
   "metadata": {
    "collapsed": false
   },
   "outputs": [
    {
     "data": {
      "text/plain": [
       "5"
      ]
     },
     "execution_count": 30,
     "metadata": {},
     "output_type": "execute_result"
    }
   ],
   "source": [
    "len(graph)"
   ]
  },
  {
   "cell_type": "code",
   "execution_count": 32,
   "metadata": {
    "collapsed": false
   },
   "outputs": [
    {
     "name": "stdout",
     "output_type": "stream",
     "text": [
      "[]\n",
      "[2, 3]\n",
      "[0]\n",
      "[2, 0]\n",
      "[2, 1, 0]\n"
     ]
    }
   ],
   "source": [
    "for i in range(0,len(graph)): \n",
    "    print graph[i]"
   ]
  },
  {
   "cell_type": "code",
   "execution_count": null,
   "metadata": {
    "collapsed": true
   },
   "outputs": [],
   "source": []
  }
 ],
 "metadata": {
  "kernelspec": {
   "display_name": "Python 2",
   "language": "python",
   "name": "python2"
  },
  "language_info": {
   "codemirror_mode": {
    "name": "ipython",
    "version": 2
   },
   "file_extension": ".py",
   "mimetype": "text/x-python",
   "name": "python",
   "nbconvert_exporter": "python",
   "pygments_lexer": "ipython2",
   "version": "2.7.11"
  }
 },
 "nbformat": 4,
 "nbformat_minor": 0
}
