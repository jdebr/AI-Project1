{
 "cells": [
  {
   "cell_type": "markdown",
   "metadata": {},
   "source": [
    "                                                    AI - Project 1"
   ]
  },
  {
   "cell_type": "markdown",
   "metadata": {},
   "source": [
    "First we implement the Graph Generation "
   ]
  },
  {
   "cell_type": "markdown",
   "metadata": {},
   "source": [
    "We start with the generation of de n vertex of the graph."
   ]
  },
  {
   "cell_type": "code",
   "execution_count": 25,
   "metadata": {
    "collapsed": false
   },
   "outputs": [
    {
     "name": "stdout",
     "output_type": "stream",
     "text": [
      "X coordinates are - [0.9410449782934807, 0.17494436076261333, 0.27818193155841764, 0.20621540051881426, 0.5877754792593254, 0.20938103348449022, 0.9357414773191143, 0.9648272194558289, 0.46411438125539317, 0.4163597560082597]\n",
      "Y coordinates are - [0.31178656425090534, 0.9953612038707459, 0.8787614552337351, 0.12351546910398148, 0.7274726850118113, 0.2974280892627028, 0.2532241665580086, 0.14298229596106793, 0.19754520239383555, 0.7856147863309577]\n",
      "\n",
      "DICTIONNARY OF VERTEX GENERATED\n"
     ]
    },
    {
     "data": {
      "text/plain": [
       "{0: [0.20621540051881426, 0.9953612038707459],\n",
       " 1: [0.9357414773191143, 0.7274726850118113],\n",
       " 2: [0.9648272194558289, 0.7274726850118113],\n",
       " 3: [0.17494436076261333, 0.31178656425090534],\n",
       " 4: [0.4163597560082597, 0.8787614552337351],\n",
       " 5: [0.27818193155841764, 0.2532241665580086],\n",
       " 6: [0.27818193155841764, 0.12351546910398148],\n",
       " 7: [0.20621540051881426, 0.8787614552337351],\n",
       " 8: [0.20621540051881426, 0.2974280892627028],\n",
       " 9: [0.9410449782934807, 0.8787614552337351]}"
      ]
     },
     "execution_count": 25,
     "metadata": {},
     "output_type": "execute_result"
    }
   ],
   "source": [
    "import random\n",
    "import math\n",
    "graphX = []\n",
    "graphY = []\n",
    "\n",
    "#Enter value of n from 10 - 100 in multiples of 10\n",
    "n = 10\n",
    "\n",
    "for i in range(n):\n",
    "    x = random.random()\n",
    "    y = random.random()\n",
    "    graphX.append(x)\n",
    "    graphY.append(y)\n",
    "print(\"X coordinates are - \" + str(graphX))\n",
    "print(\"Y coordinates are - \" + str(graphY))\n",
    "\n",
    "graph = {}\n",
    "for i in range(0,10):  \n",
    "    graph[i] = [random.choice(graphX),random.choice(graphY)]\n",
    "    \n",
    "print \"\\nDICTIONNARY OF VERTEX GENERATED\"\n",
    "graph"
   ]
  },
  {
   "cell_type": "markdown",
   "metadata": {},
   "source": [
    "Then we will compute the Euclidian distance between all the point and sort it in a dictionnary"
   ]
  },
  {
   "cell_type": "code",
   "execution_count": 26,
   "metadata": {
    "collapsed": false
   },
   "outputs": [
    {
     "data": {
      "text/plain": [
       "[OrderedDict([(7, 0.11659974863701084),\n",
       "              (4, 0.24032509549834474),\n",
       "              (3, 0.6842895336470001),\n",
       "              (8, 0.6979331146080431),\n",
       "              (9, 0.7440228556668865),\n",
       "              (5, 0.7456182426290289),\n",
       "              (1, 0.77715671216819),\n",
       "              (2, 0.8045223119139454),\n",
       "              (6, 0.874810932042389)]),\n",
       " OrderedDict([(2, 0.029085742136714665),\n",
       "              (9, 0.15138170007582538),\n",
       "              (4, 0.5409673413683014),\n",
       "              (7, 0.7450480445762537),\n",
       "              (0, 0.77715671216819),\n",
       "              (5, 0.8107380671194861),\n",
       "              (8, 0.8468451163374867),\n",
       "              (3, 0.8669528266024263),\n",
       "              (6, 0.8928319409990609)]),\n",
       " OrderedDict([(1, 0.029085742136714665),\n",
       "              (9, 0.15314661925738401),\n",
       "              (4, 0.5689506573121018),\n",
       "              (7, 0.7735503757520825),\n",
       "              (0, 0.8045223119139454),\n",
       "              (5, 0.834501892536707),\n",
       "              (8, 0.8720265168926574),\n",
       "              (3, 0.8925860638899853),\n",
       "              (6, 0.914464909134766)]),\n",
       " OrderedDict([(8, 0.034409936521602846),\n",
       "              (5, 0.11869098722042758),\n",
       "              (6, 0.2147184232702),\n",
       "              (7, 0.5678366005572603),\n",
       "              (4, 0.6162320342749177),\n",
       "              (0, 0.6842895336470001),\n",
       "              (1, 0.8669528266024263),\n",
       "              (2, 0.8925860638899853),\n",
       "              (9, 0.9530848247591438)]),\n",
       " OrderedDict([(7, 0.21014435548944543),\n",
       "              (0, 0.24032509549834474),\n",
       "              (9, 0.524685222285221),\n",
       "              (1, 0.5409673413683014),\n",
       "              (2, 0.5689506573121018),\n",
       "              (3, 0.6162320342749177),\n",
       "              (8, 0.6181497654575989),\n",
       "              (5, 0.6406168985387994),\n",
       "              (6, 0.7677822677913285)]),\n",
       " OrderedDict([(8, 0.08445808648292226),\n",
       "              (3, 0.11869098722042758),\n",
       "              (6, 0.12970869745402713),\n",
       "              (7, 0.6296634665546773),\n",
       "              (4, 0.6406168985387994),\n",
       "              (0, 0.7456182426290289),\n",
       "              (1, 0.8107380671194861),\n",
       "              (2, 0.834501892536707),\n",
       "              (9, 0.9114188489660884)]),\n",
       " OrderedDict([(5, 0.12970869745402713),\n",
       "              (8, 0.18821472057292937),\n",
       "              (3, 0.2147184232702),\n",
       "              (7, 0.7586670423545352),\n",
       "              (4, 0.7677822677913285),\n",
       "              (0, 0.874810932042389),\n",
       "              (1, 0.8928319409990609),\n",
       "              (2, 0.914464909134766),\n",
       "              (9, 1.0048800516937304)]),\n",
       " OrderedDict([(0, 0.11659974863701084),\n",
       "              (4, 0.21014435548944543),\n",
       "              (3, 0.5678366005572603),\n",
       "              (8, 0.5813333659710322),\n",
       "              (5, 0.6296634665546773),\n",
       "              (9, 0.7348295777746664),\n",
       "              (1, 0.7450480445762537),\n",
       "              (6, 0.7586670423545352),\n",
       "              (2, 0.7735503757520825)]),\n",
       " OrderedDict([(3, 0.034409936521602846),\n",
       "              (5, 0.08445808648292226),\n",
       "              (6, 0.18821472057292937),\n",
       "              (7, 0.5813333659710322),\n",
       "              (4, 0.6181497654575989),\n",
       "              (0, 0.6979331146080431),\n",
       "              (1, 0.8468451163374867),\n",
       "              (2, 0.8720265168926574),\n",
       "              (9, 0.9369754483249305)]),\n",
       " OrderedDict([(1, 0.15138170007582538),\n",
       "              (2, 0.15314661925738401),\n",
       "              (4, 0.524685222285221),\n",
       "              (7, 0.7348295777746664),\n",
       "              (0, 0.7440228556668865),\n",
       "              (5, 0.9114188489660884),\n",
       "              (8, 0.9369754483249305),\n",
       "              (3, 0.9530848247591438),\n",
       "              (6, 1.0048800516937304)])]"
      ]
     },
     "execution_count": 26,
     "metadata": {},
     "output_type": "execute_result"
    }
   ],
   "source": [
    "from collections import OrderedDict\n",
    "from operator import itemgetter\n",
    "\n",
    "distanceList = []\n",
    "for key1, value  in graph.items() :\n",
    "    vertex ={}\n",
    "    x1Coordinate = value[0]\n",
    "    y1Coordinate = value[1]\n",
    "    x1 = x1Coordinate\n",
    "    y1 = y1Coordinate\n",
    "    for key, value in graph.items():\n",
    "        x2Coordinate = value[0]\n",
    "        y2Coordinate = value[1]\n",
    "        x = (x2Coordinate - x1Coordinate)**2\n",
    "        y = (y2Coordinate - y1Coordinate)**2\n",
    "        vertex[key] = math.sqrt(x+y)\n",
    "    del vertex[key1]\n",
    "    distanceList.append(OrderedDict(sorted(vertex.items(), key=itemgetter(1))))\n",
    "distanceList"
   ]
  },
  {
   "cell_type": "code",
   "execution_count": null,
   "metadata": {
    "collapsed": true
   },
   "outputs": [],
   "source": []
  }
 ],
 "metadata": {
  "kernelspec": {
   "display_name": "Python 2",
   "language": "python",
   "name": "python2"
  },
  "language_info": {
   "codemirror_mode": {
    "name": "ipython",
    "version": 2
   },
   "file_extension": ".py",
   "mimetype": "text/x-python",
   "name": "python",
   "nbconvert_exporter": "python",
   "pygments_lexer": "ipython2",
   "version": "2.7.11"
  }
 },
 "nbformat": 4,
 "nbformat_minor": 0
}
